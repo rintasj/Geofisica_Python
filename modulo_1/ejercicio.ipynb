{
 "cells": [
  {
   "cell_type": "markdown",
   "metadata": {},
   "source": [
    "1. Un algoritmo en el que el usuario deba poner coordenadas de latitud y longitud. Posteriormente, un print que muestre algo del estilo \"Las coordenadas son 62.22 N, 12.33 W\", la latitud y la longitud deben tener dos cifras significativas.\n"
   ]
  },
  {
   "cell_type": "code",
   "execution_count": 20,
   "metadata": {},
   "outputs": [
    {
     "name": "stdout",
     "output_type": "stream",
     "text": [
      "Las coordenadas son 45.27 N, 98.68 W.\n"
     ]
    }
   ],
   "source": [
    "latitud = float(input(\"Introduzca el dato de latitud: \"))\n",
    "longitud = float(input(\"Introduzca el dato de latitud: \"))\n",
    "\n",
    "print(f\"Las coordenadas son {latitud:.2f} N, {longitud:.2f} W.\")"
   ]
  },
  {
   "cell_type": "markdown",
   "metadata": {},
   "source": [
    "2. Un algoritmo en el que el usuario escriba su nombre y, posteriormente, le muestre un texto del estilo \"Hola, Juan, bienvenido a Python\".\n"
   ]
  },
  {
   "cell_type": "code",
   "execution_count": 13,
   "metadata": {},
   "outputs": [
    {
     "name": "stdout",
     "output_type": "stream",
     "text": [
      "Hola, Sebis, bienvenido a Python.\n"
     ]
    }
   ],
   "source": [
    "nombre = input(\"Escriba su nombre: \")\n",
    "\n",
    "print(f\"Hola, {nombre}, bienvenido a Python.\")"
   ]
  },
  {
   "cell_type": "markdown",
   "metadata": {},
   "source": [
    "3. Un algoritmo en el que el usuario ingrese una temperatura en grados Celsius y el programa convierta esta temperatura a grados Fahrenheit. Después, debe imprimir un mensaje que diga \"XX°C es igual a YY°F\"."
   ]
  },
  {
   "cell_type": "code",
   "execution_count": 15,
   "metadata": {},
   "outputs": [
    {
     "name": "stdout",
     "output_type": "stream",
     "text": [
      "68.5°C es igual a 155.3°F\n"
     ]
    }
   ],
   "source": [
    "temperatura_C = float(input(\"Introduce la temperatura en grados celcius: \"))\n",
    "conversion_F = (temperatura_C * 1.8) + 32\n",
    "\n",
    "print(f\"{temperatura_C}°C es igual a {conversion_F}°F\")"
   ]
  }
 ],
 "metadata": {
  "kernelspec": {
   "display_name": "ambiente_curso",
   "language": "python",
   "name": "python3"
  },
  "language_info": {
   "codemirror_mode": {
    "name": "ipython",
    "version": 3
   },
   "file_extension": ".py",
   "mimetype": "text/x-python",
   "name": "python",
   "nbconvert_exporter": "python",
   "pygments_lexer": "ipython3",
   "version": "3.10.13"
  }
 },
 "nbformat": 4,
 "nbformat_minor": 2
}
